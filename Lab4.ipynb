{
  "nbformat": 4,
  "nbformat_minor": 0,
  "metadata": {
    "colab": {
      "provenance": [],
      "authorship_tag": "ABX9TyM3CyFL0GUEFD6EMzxL7bpH",
      "include_colab_link": true
    },
    "kernelspec": {
      "name": "python3",
      "display_name": "Python 3"
    },
    "language_info": {
      "name": "python"
    }
  },
  "cells": [
    {
      "cell_type": "markdown",
      "metadata": {
        "id": "view-in-github",
        "colab_type": "text"
      },
      "source": [
        "<a href=\"https://colab.research.google.com/github/srithummalapalli/Pong-Game/blob/main/Lab4.ipynb\" target=\"_parent\"><img src=\"https://colab.research.google.com/assets/colab-badge.svg\" alt=\"Open In Colab\"/></a>"
      ]
    },
    {
      "cell_type": "code",
      "source": [],
      "metadata": {
        "id": "VwgVQk7HDH8H"
      },
      "execution_count": null,
      "outputs": []
    },
    {
      "cell_type": "code",
      "execution_count": 8,
      "metadata": {
        "colab": {
          "base_uri": "https://localhost:8080/",
          "height": 356
        },
        "id": "E3DDIIShTdrY",
        "outputId": "53ab143d-187e-4cbd-e058-a0ed70297660"
      },
      "outputs": [
        {
          "output_type": "error",
          "ename": "KeyboardInterrupt",
          "evalue": "Interrupted by user",
          "traceback": [
            "\u001b[0;31m---------------------------------------------------------------------------\u001b[0m",
            "\u001b[0;31mKeyboardInterrupt\u001b[0m                         Traceback (most recent call last)",
            "\u001b[0;32m<ipython-input-8-6830d748c1fd>\u001b[0m in \u001b[0;36m<cell line: 0>\u001b[0;34m()\u001b[0m\n\u001b[1;32m      9\u001b[0m \u001b[0;32mwhile\u001b[0m \u001b[0;32mTrue\u001b[0m\u001b[0;34m:\u001b[0m\u001b[0;34m\u001b[0m\u001b[0;34m\u001b[0m\u001b[0m\n\u001b[1;32m     10\u001b[0m   \u001b[0;32mtry\u001b[0m\u001b[0;34m:\u001b[0m\u001b[0;34m\u001b[0m\u001b[0;34m\u001b[0m\u001b[0m\n\u001b[0;32m---> 11\u001b[0;31m     \u001b[0muser_number\u001b[0m \u001b[0;34m=\u001b[0m \u001b[0mint\u001b[0m\u001b[0;34m(\u001b[0m\u001b[0minput\u001b[0m\u001b[0;34m(\u001b[0m\u001b[0;34m\"Please enter a number: \"\u001b[0m\u001b[0;34m)\u001b[0m\u001b[0;34m)\u001b[0m\u001b[0;34m\u001b[0m\u001b[0;34m\u001b[0m\u001b[0m\n\u001b[0m\u001b[1;32m     12\u001b[0m     \u001b[0mprint\u001b[0m\u001b[0;34m(\u001b[0m\u001b[0;34mf\"Thank you for entering number: {user_number}\"\u001b[0m\u001b[0;34m)\u001b[0m\u001b[0;34m\u001b[0m\u001b[0;34m\u001b[0m\u001b[0m\n\u001b[1;32m     13\u001b[0m     \u001b[0;32mbreak\u001b[0m\u001b[0;34m\u001b[0m\u001b[0;34m\u001b[0m\u001b[0m\n",
            "\u001b[0;32m/usr/local/lib/python3.11/dist-packages/ipykernel/kernelbase.py\u001b[0m in \u001b[0;36mraw_input\u001b[0;34m(self, prompt)\u001b[0m\n\u001b[1;32m    849\u001b[0m                 \u001b[0;34m\"raw_input was called, but this frontend does not support input requests.\"\u001b[0m\u001b[0;34m\u001b[0m\u001b[0;34m\u001b[0m\u001b[0m\n\u001b[1;32m    850\u001b[0m             )\n\u001b[0;32m--> 851\u001b[0;31m         return self._input_request(str(prompt),\n\u001b[0m\u001b[1;32m    852\u001b[0m             \u001b[0mself\u001b[0m\u001b[0;34m.\u001b[0m\u001b[0m_parent_ident\u001b[0m\u001b[0;34m,\u001b[0m\u001b[0;34m\u001b[0m\u001b[0;34m\u001b[0m\u001b[0m\n\u001b[1;32m    853\u001b[0m             \u001b[0mself\u001b[0m\u001b[0;34m.\u001b[0m\u001b[0m_parent_header\u001b[0m\u001b[0;34m,\u001b[0m\u001b[0;34m\u001b[0m\u001b[0;34m\u001b[0m\u001b[0m\n",
            "\u001b[0;32m/usr/local/lib/python3.11/dist-packages/ipykernel/kernelbase.py\u001b[0m in \u001b[0;36m_input_request\u001b[0;34m(self, prompt, ident, parent, password)\u001b[0m\n\u001b[1;32m    893\u001b[0m             \u001b[0;32mexcept\u001b[0m \u001b[0mKeyboardInterrupt\u001b[0m\u001b[0;34m:\u001b[0m\u001b[0;34m\u001b[0m\u001b[0;34m\u001b[0m\u001b[0m\n\u001b[1;32m    894\u001b[0m                 \u001b[0;31m# re-raise KeyboardInterrupt, to truncate traceback\u001b[0m\u001b[0;34m\u001b[0m\u001b[0;34m\u001b[0m\u001b[0m\n\u001b[0;32m--> 895\u001b[0;31m                 \u001b[0;32mraise\u001b[0m \u001b[0mKeyboardInterrupt\u001b[0m\u001b[0;34m(\u001b[0m\u001b[0;34m\"Interrupted by user\"\u001b[0m\u001b[0;34m)\u001b[0m \u001b[0;32mfrom\u001b[0m \u001b[0;32mNone\u001b[0m\u001b[0;34m\u001b[0m\u001b[0;34m\u001b[0m\u001b[0m\n\u001b[0m\u001b[1;32m    896\u001b[0m             \u001b[0;32mexcept\u001b[0m \u001b[0mException\u001b[0m \u001b[0;32mas\u001b[0m \u001b[0me\u001b[0m\u001b[0;34m:\u001b[0m\u001b[0;34m\u001b[0m\u001b[0;34m\u001b[0m\u001b[0m\n\u001b[1;32m    897\u001b[0m                 \u001b[0mself\u001b[0m\u001b[0;34m.\u001b[0m\u001b[0mlog\u001b[0m\u001b[0;34m.\u001b[0m\u001b[0mwarning\u001b[0m\u001b[0;34m(\u001b[0m\u001b[0;34m\"Invalid Message:\"\u001b[0m\u001b[0;34m,\u001b[0m \u001b[0mexc_info\u001b[0m\u001b[0;34m=\u001b[0m\u001b[0;32mTrue\u001b[0m\u001b[0;34m)\u001b[0m\u001b[0;34m\u001b[0m\u001b[0;34m\u001b[0m\u001b[0m\n",
            "\u001b[0;31mKeyboardInterrupt\u001b[0m: Interrupted by user"
          ]
        }
      ],
      "source": [
        "\"\"\"\n",
        "  Week 4 Lab\n",
        "  Level: Advanced\n",
        "  Name: Sri Thummalapalli\n",
        "  UID: u1514823\n",
        "\"\"\"\n",
        "\n",
        "# Input Handling\n",
        "while True:\n",
        "  try:\n",
        "    user_number = int(input(\"Please enter a number: \"))\n",
        "    print(f\"Thank you for entering number: {user_number}\")\n",
        "    break\n",
        "  except ValueError:\n",
        "    print(\"Invalid input\")\n",
        "\n",
        "# Multiple User Inputs\n",
        "name = input(\"Please enter your name: \")\n",
        "age = int(input(\"Please enter your age: \"))\n",
        "fav_number = int(input(\"Enter your favourite number: \"))\n",
        "\n",
        "if (age >= 0):\n",
        "  print(\"Your favourite number is even\")\n",
        "else:\n",
        "  print(\"Your favourite number is odd\")\n",
        "\n",
        "print(f\"Hello {name}, you are {age} years old and your favourite number is {fav_number}\")\n",
        "\n",
        "# Decision Making\n",
        "user_score = int(input(\"Please enter your score: \"))\n",
        "grade = \"\"\n",
        "if (user_score >= 90):\n",
        "  grade = \"A\"\n",
        "elif (user_score >= 80):\n",
        "  grade = \"B\"\n",
        "elif (user_score >= 70):\n",
        "   grade = \"C\"\n",
        "elif (user_score >= 60):\n",
        "   grade = \"D\"\n",
        "else:\n",
        "   grade = \"E\"\n",
        "print(f\"Student's grade: {grade}\")\n",
        "\n",
        "# Logical Conditions & Compound Decisions\n",
        "income = int(input(\"Please enter income: \"))\n",
        "credit_score = int(input(\"Please enter credit score:\"))\n",
        "loan_amount = int(input(\"Please enter loan amount:\"))\n",
        "\n",
        "if (income > 30000 and credit_score > 650 and loan_amount < (0.5 * income)):\n",
        "  print(\"Loan approved\")\n",
        "else:\n",
        "  print(\"Loan denied\")\n",
        "\n",
        "# Nested Decisions\n",
        "correctUsername = \"admin\"\n",
        "correctPassword = \"password123!\"\n",
        "attempts = 3;\n",
        "\n",
        "while (attempts > 0):\n",
        "  username = input(\"Enter username: \")\n",
        "  password = input(\"Enter password: \")\n",
        "  if (username == correctUsername and password == correctPassword):\n",
        "    print(\"Login successful\")\n",
        "    break\n",
        "  else:\n",
        "    print(\"Error: Username/Password do not match\")\n",
        "    attempts -= 1\n",
        "\n",
        "if (attempts == 0):\n",
        "  print(\"Account locked\")\n",
        "\n",
        "# Challenge\n",
        "balance = 1000\n",
        "print(f\"Current balance: ${balance}\")\n",
        "while (balance > 0):\n",
        "  withdraw = input(\"Enter amount to be withdrawn: \")\n",
        "\n",
        "  if (withdraw == \"Done\"):\n",
        "    break\n",
        "  else:\n",
        "    withdraw = int(withdraw)\n",
        "    if (withdraw > balance):\n",
        "      print(\"Insufficient funds\")\n",
        "    else:\n",
        "      balance -= withdraw\n",
        "      print(f\"Current balance: ${balance}\")\n"
      ]
    },
    {
      "cell_type": "code",
      "source": [],
      "metadata": {
        "id": "CIaKbRJ0ZROu"
      },
      "execution_count": null,
      "outputs": []
    }
  ]
}